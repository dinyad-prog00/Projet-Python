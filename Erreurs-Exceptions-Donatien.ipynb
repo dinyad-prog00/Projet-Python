{
 "cells": [
  {
   "cell_type": "markdown",
   "id": "270039b6",
   "metadata": {},
   "source": [
    "****\n",
    "\n",
    "# <center><b style=\"color:green;\">Gestion des erreurs et exceptions en python</b><center>\n",
    "\n",
    "****\n",
    "\n",
    "# <center><b style=\"color:orange\">Par Donatien Yeto</b></center>\n",
    "    \n",
    "****"
   ]
  },
  {
   "cell_type": "markdown",
   "id": "01ab82a8",
   "metadata": {},
   "source": [
    "## <left> <b> <span style=\"color:brown;\">Plan </span> </b></left>\n",
    "\n",
    "> <span style=\"font-size:20px ;color : orange\"><a href=\"#it\">1.Idées introductives </span></a><br>\n",
    ">> <span style=\"font-size:16px ;color : brown\">a-) Les erreurs de syntaxe¶ <br>\n",
    "   b-) Exceptions<br></span>\n",
    "   \n",
    "> <span style=\"font-size:20px ;color : orange\"> <a href=\"#te\">2.Traiter une exception</a></span>\n",
    "\n",
    "   >> <span style=\"font-size:16px ;color : brown\">a-) Forme minimale du bloc try <br>\n",
    "   b-) Exécuter le bloc except pour un type d'exception précis<br>\n",
    "   c-) Les mots-clés else, finally et pass<br>\n",
    "   d-) Liste de quelques execeptions<br>\n",
    " </span>\n",
    "   \n",
    "> <span style=\"font-size:20px ;color : orange\"><a href=\"#it\">3. Lever une exception</a><br></span>\n",
    "\n",
    "> <span style=\"font-size:20px ;color : orange\"><a href=\"#it\">4. Exceptions définies par l’utilisateur</a><br></span>\n",
    "\n",
    "> <span style=\"font-size:20px ;color : orange\"><a href=\"#it\">5. Conclusion</a><br></span>\n",
    "\n",
    "\n",
    "****"
   ]
  },
  {
   "cell_type": "markdown",
   "id": "06ca9328",
   "metadata": {},
   "source": [
    "<span id=\"it\"></span>\n",
    "# Idées introductives\n",
    "Il y a au moins deux types d’erreurs à distinguer dans un programme Python: les <span style=\"color:brown;\"> erreurs de syntaxe</span> et les <span style=\"color:brown;\">exceptions</span>.\n",
    "## <span style=\"color:brown;\">Les erreurs de syntaxe</span>\n",
    "Les erreurs de syntaxe, qui sont des erreurs d’analyse du code, sont peut-être celles que vous rencontrez le plus souvent lorsque vous êtes encore en phase d’apprentissage de Python :\n"
   ]
  },
  {
   "cell_type": "code",
   "execution_count": 1,
   "id": "0179346b",
   "metadata": {},
   "outputs": [
    {
     "ename": "IndentationError",
     "evalue": "expected an indented block (<ipython-input-1-a0bca2ceb828>, line 3)",
     "output_type": "error",
     "traceback": [
      "\u001b[0;36m  File \u001b[0;32m\"<ipython-input-1-a0bca2ceb828>\"\u001b[0;36m, line \u001b[0;32m3\u001b[0m\n\u001b[0;31m    print(a)\u001b[0m\n\u001b[0m    ^\u001b[0m\n\u001b[0;31mIndentationError\u001b[0m\u001b[0;31m:\u001b[0m expected an indented block\n"
     ]
    }
   ],
   "source": [
    "a=2\n",
    "if a==4\n",
    "print(a)"
   ]
  },
  {
   "cell_type": "markdown",
   "id": "48decaaa",
   "metadata": {},
   "source": [
    "L’analyseur indique la ligne incriminée et affiche une petite “flèche” pointant vers le premier endroit de la ligne où l’erreur a été détectée. L’erreur est causée (ou, au moins, a été détectée comme telle) par le symbole placé avant la flèche. Dans cet exemple la flèche est sur 4 car il manque deux points (':') juste après. Le nom du fichier et le numéro de ligne sont affichés pour vous permettre de localiser facilement l’erreur lorsque le code provient d’un script."
   ]
  },
  {
   "cell_type": "markdown",
   "id": "bb018a90",
   "metadata": {},
   "source": [
    "## <span style=\"color:brown;\">Les exceptions</span>\n",
    "Toutes les erreurs qui se produisent lors de l’exécution d’un programme Python sont représentées par une exception. Une exception est un objet qui contient des informations sur le contexte de l’erreur. Lorsqu’une exception survient et qu’elle n’est pas traitée alors elle produit une interruption du programme et elle affiche sur la sortie standard un message ainsi que la pile des appels (stacktrace). La pile des appels présente dans l’ordre la liste des fonctions et des méthodes qui étaient en cours d’appel au moment où exception est survenue.\n"
   ]
  },
  {
   "cell_type": "code",
   "execution_count": 5,
   "id": "13bfb98c",
   "metadata": {},
   "outputs": [
    {
     "ename": "ZeroDivisionError",
     "evalue": "division by zero",
     "output_type": "error",
     "traceback": [
      "\u001b[0;31m---------------------------------------------------------------------------\u001b[0m",
      "\u001b[0;31mZeroDivisionError\u001b[0m                         Traceback (most recent call last)",
      "\u001b[0;32m<ipython-input-5-fc960379d6f3>\u001b[0m in \u001b[0;36m<module>\u001b[0;34m\u001b[0m\n\u001b[1;32m      2\u001b[0m     \u001b[0;36m1\u001b[0m \u001b[0;34m/\u001b[0m \u001b[0;36m0\u001b[0m\u001b[0;34m\u001b[0m\u001b[0;34m\u001b[0m\u001b[0m\n\u001b[1;32m      3\u001b[0m \u001b[0;34m\u001b[0m\u001b[0m\n\u001b[0;32m----> 4\u001b[0;31m \u001b[0mfonction1\u001b[0m\u001b[0;34m(\u001b[0m\u001b[0;34m)\u001b[0m\u001b[0;34m\u001b[0m\u001b[0;34m\u001b[0m\u001b[0m\n\u001b[0m",
      "\u001b[0;32m<ipython-input-5-fc960379d6f3>\u001b[0m in \u001b[0;36mfonction1\u001b[0;34m()\u001b[0m\n\u001b[1;32m      1\u001b[0m \u001b[0;32mdef\u001b[0m \u001b[0mfonction1\u001b[0m\u001b[0;34m(\u001b[0m\u001b[0;34m)\u001b[0m\u001b[0;34m:\u001b[0m\u001b[0;34m\u001b[0m\u001b[0;34m\u001b[0m\u001b[0m\n\u001b[0;32m----> 2\u001b[0;31m     \u001b[0;36m1\u001b[0m \u001b[0;34m/\u001b[0m \u001b[0;36m0\u001b[0m\u001b[0;34m\u001b[0m\u001b[0;34m\u001b[0m\u001b[0m\n\u001b[0m\u001b[1;32m      3\u001b[0m \u001b[0;34m\u001b[0m\u001b[0m\n\u001b[1;32m      4\u001b[0m \u001b[0mfonction1\u001b[0m\u001b[0;34m(\u001b[0m\u001b[0;34m)\u001b[0m\u001b[0;34m\u001b[0m\u001b[0;34m\u001b[0m\u001b[0m\n",
      "\u001b[0;31mZeroDivisionError\u001b[0m: division by zero"
     ]
    }
   ],
   "source": [
    "def fonction1():\n",
    "    1 / 0\n",
    "\n",
    "fonction1()"
   ]
  },
  {
   "cell_type": "markdown",
   "id": "598f2d43",
   "metadata": {},
   "source": [
    "### Nous voyons que le programme a échoué à cause d’une erreur car nous faisons une division par zéro.<br>\n",
    "Attardons-nous sur la dernière ligne de la sortie. Nous y trouvons deux informations :<br>\n",
    "> <ul>\n",
    "    <li><span style=\"color:brown;\">ZeroDivisionError</span> : le type de l'exception ;</li>\n",
    "    <li><span style=\"color:blue;\">division by zero </span>: le message qu'envoie Python pour vous aider à comprendre l'erreur qui vient de se produire.</li>"
   ]
  },
  {
   "cell_type": "markdown",
   "id": "3d6aaad1",
   "metadata": {},
   "source": [
    "<span id=\"te\"></span>\n",
    "\n",
    "# Traiter une exception \n",
    "\n",
    "\n",
    "Parfois un programme est capable de traiter le problème à l’origine de l’exception. Par exemple si le programme demande à l’utilisateur de saisir un nombre et que l’utilisateur saisit une valeur erronée, le programme peut simplement demander à l’utilisateur de saisir une autre valeur. Plutôt que de faire échouer le programme, il est possible d’essayer de réaliser un traitement et, s’il échoue de proposer un traitement adapté :"
   ]
  },
  {
   "cell_type": "markdown",
   "id": "10889d74",
   "metadata": {},
   "source": [
    "## <span style=\"color : brown\"> a-) Forme minimale du bloc try</span>\n",
    "On va parler ici de bloc try. Nous allons en effet mettre les instructions que nous souhaitons tester dans un premier bloc et les\n",
    "instructions à exécuter en cas d'erreur dans un autre bloc. Sans plus attendre, voici la syntaxe :"
   ]
  },
  {
   "cell_type": "code",
   "execution_count": 3,
   "id": "e14e0d4f",
   "metadata": {},
   "outputs": [
    {
     "name": "stdout",
     "output_type": "stream",
     "text": [
      "Entrez un nombre : hkkjghjk\n",
      "Désolé la valeur saisie n'est pas un nombre.\n"
     ]
    }
   ],
   "source": [
    "nombre = input(\"Entrez un nombre : \")\n",
    "try:\n",
    "    # Bloc à essayer\n",
    "    nombre = int(nombre)\n",
    "except :\n",
    "    # Bloc qui sera exécuté en cas d'erreur\n",
    "    print(\"Désolé la valeur saisie n'est pas un nombre.\")"
   ]
  },
  {
   "cell_type": "markdown",
   "id": "018ea0f8",
   "metadata": {},
   "source": [
    "## <span style=\"color : brown\">b-) Exécuter le bloc except pour un type d'exception précis</span>\n",
    "Dans l'exemple que nous avons vu plus haut, on ne pense qu'à un type d'exceptions susceptible d'être levé : le type <span style=\"color : brown\">ValueError</span>, qui trahirait une erreur de conversion. Voyons un autre exemple :"
   ]
  },
  {
   "cell_type": "code",
   "execution_count": 28,
   "id": "fca8fa64",
   "metadata": {},
   "outputs": [],
   "source": [
    "numerateur,denominateur = 0,1\n",
    "\n",
    "try:\n",
    "    resultat = numerateur/denominateur\n",
    "except:\n",
    "    print(\"Une erreur est survenue... laquelle ?\")"
   ]
  },
  {
   "cell_type": "markdown",
   "id": "34731942",
   "metadata": {},
   "source": [
    "Ici, plusieurs erreurs sont susceptibles d'intervenir, chacune levant une exception différente.\n",
    "<ul>\n",
    "    <li><span style=\"font-size:16px ;color : brown\">NameError</span> : l'une des variables numerateur ou denominateur n'a pas été définie</li>\n",
    "    <li><span style=\"font-size:16px ;color : brown\">TypeError</span> : l'une des variables numerateur ou denominateur ne peut diviser ou être divisée</li>\n",
    "    <li><span style=\"font-size:16px ;color : brown\">ZeroDivisionError</span> :encore elle ! Si denominateur vaut 0</li>\n",
    " </ul>\n",
    " Tout se joue sur la ligne du except. Entre ce mot-clé et les deux points, vous pouvez préciser le type de l'exception que vous souhaitez traiter."
   ]
  },
  {
   "cell_type": "code",
   "execution_count": 24,
   "id": "75ad51aa",
   "metadata": {},
   "outputs": [
    {
     "name": "stdout",
     "output_type": "stream",
     "text": [
      "La variable numerateur ou denominateur possède un type incompatible avec la division.\n"
     ]
    }
   ],
   "source": [
    "#numerateur , denominateur = 4,\"\"\n",
    "try:\n",
    "    resultat = numerateur / denominateur\n",
    "except NameError:\n",
    "    print(\"La variable numerateur ou denominateur n'a pas été définie.\")\n",
    "except TypeError:\n",
    "    print(\"La variable numerateur ou denominateur possède un type incompatible avec la division.\")\n",
    "except ZeroDivisionError:\n",
    "    print(\"La variable denominateur est égale à 0.\")"
   ]
  },
  {
   "cell_type": "markdown",
   "id": "1dfecaf0",
   "metadata": {},
   "source": [
    "On peut capturer l'exception et afficher son message grâce au mot-clé as."
   ]
  },
  {
   "cell_type": "code",
   "execution_count": 31,
   "id": "e82eaccb",
   "metadata": {},
   "outputs": [
    {
     "ename": "IndentationError",
     "evalue": "expected an indented block (<ipython-input-31-7619c2a63759>, line 3)",
     "output_type": "error",
     "traceback": [
      "\u001b[0;36m  File \u001b[0;32m\"<ipython-input-31-7619c2a63759>\"\u001b[0;36m, line \u001b[0;32m3\u001b[0m\n\u001b[0;31m    except type_de_l_exception as exception_retournee:\u001b[0m\n\u001b[0m    ^\u001b[0m\n\u001b[0;31mIndentationError\u001b[0m\u001b[0;31m:\u001b[0m expected an indented block\n"
     ]
    }
   ],
   "source": [
    "try:\n",
    "    # Bloc de test\n",
    "except type_de_l_exception as exception_retournee:\n",
    "    print(\"Voici l'erreur :\", exception_retournee)"
   ]
  },
  {
   "cell_type": "markdown",
   "id": "7dbdde97",
   "metadata": {},
   "source": [
    "## <span style=\"color : brown\">c-) Les mots-clés else, finally et pass</span>\n",
    " <span style=\"color : blue\">else</span> et <span style=\"color : blue\">finally</span> deux mots-clés qui vont nous permettre de construire un bloc try plus complet.<br><br>\n",
    "Dans un bloc try, <span style=\"color : blue\">else</span> va permettre d'exécuter une action si aucune erreur ne survient dans le bloc. Voici un petit exemple :"
   ]
  },
  {
   "cell_type": "code",
   "execution_count": null,
   "id": "b05be73c",
   "metadata": {},
   "outputs": [],
   "source": [
    "try:\n",
    "    resultat = numerateur / denominateur\n",
    "except NameError:\n",
    "    print(\"La variable numerateur ou denominateur n'a pas été définie.\")\n",
    "except TypeError:\n",
    "    print(\"La variable numerateur ou denominateur possède un typeincompatible avec la division.\")\n",
    "except ZeroDivisionError:\n",
    "    print(\"La variable denominateur est égale à 0.\")\n",
    "else:\n",
    "    print(\"Le résultat obtenu est\", resultat)"
   ]
  },
  {
   "cell_type": "markdown",
   "id": "8c75a38a",
   "metadata": {},
   "source": [
    "<span style=\"color : blue\">finally</span> permet d'exécuter du code après un bloc try, quelle que soit le résultat de l'exécution dudit bloc. La syntaxe est des plus simples :"
   ]
  },
  {
   "cell_type": "code",
   "execution_count": null,
   "id": "dffa240b",
   "metadata": {},
   "outputs": [],
   "source": [
    "try:\n",
    "    # Test d'instruction(s)\n",
    "except TypeDException:\n",
    "    # Traitement en cas d'erreur\n",
    "finally:\n",
    "    # Instruction(s) exécutée(s) qu'il y ait eu des erreurs ou non"
   ]
  },
  {
   "cell_type": "markdown",
   "id": "c331a50d",
   "metadata": {},
   "source": [
    "Il peut arriver, dans certains cas, que l'on souhaite tester un bloc d'instructions… mais ne rien faire en cas d'erreur. Toutefois, un bloc try ne peut être seul."
   ]
  },
  {
   "cell_type": "code",
   "execution_count": 32,
   "id": "43061ede",
   "metadata": {},
   "outputs": [
    {
     "ename": "IndentationError",
     "evalue": "expected an indented block (<ipython-input-32-70c975d7cb09>, line 3)",
     "output_type": "error",
     "traceback": [
      "\u001b[0;36m  File \u001b[0;32m\"<ipython-input-32-70c975d7cb09>\"\u001b[0;36m, line \u001b[0;32m3\u001b[0m\n\u001b[0;31m    except TypeDException:\u001b[0m\n\u001b[0m    ^\u001b[0m\n\u001b[0;31mIndentationError\u001b[0m\u001b[0;31m:\u001b[0m expected an indented block\n"
     ]
    }
   ],
   "source": [
    "try:\n",
    "    # Test d'instruction(s)\n",
    "except TypeDException: \n",
    "    # Rien ne doit se passer en cas d'erreur\n",
    "    pass"
   ]
  },
  {
   "cell_type": "markdown",
   "id": "e6915137",
   "metadata": {},
   "source": [
    " ## <span style=\"color:brown;\"> d-) Liste de quelques execeptions</span>\n",
    " Plusieurs exceptions décrivent des erreurs très courantes. Il est intéressant de bien les connaître pour écrire des programmes capables de traiter les erreurs éventuelles :\n",
    " \n",
    " \n",
    " <table class=\"table table-striped\">\n",
    "    <thead>\n",
    "           <tr>\n",
    "            <th scope=\"col\"></th>\n",
    "            <th scope=\"col\"></th>\n",
    "            <th scope=\"col\"></th>\n",
    "            <th scope=\"col\"></th>\n",
    "            <th scope=\"col\"></th>\n",
    "            <th scope=\"col\"></th>\n",
    "            <th scope=\"col\"></th>\n",
    "            <th scope=\"col\"></th>\n",
    "            <th scope=\"col\"></th>\n",
    "            <th scope=\"col\"></th>\n",
    "            <th scope=\"col\"></th>\n",
    "            <th scope=\"col\"></th>\n",
    "          </tr>\n",
    "          <tr>\n",
    "            <th scope=\"col\" >#</th>\n",
    "            <th scope=\"col\" colspan=\"2\">Exception</th>\n",
    "            <th scope=\"col\" colspan=\"7\">Signification</th>\n",
    "          </tr>\n",
    "    </thead>\n",
    "    <tbody>  \n",
    "          <tr>\n",
    "            <th scope=\"row\">1</th>\n",
    "            <td colspan=\"2\">NameError</td>\n",
    "            <td colspan=\"7\">Signale qu'une variable (ou autre) utilisée n'existe pas.</td>\n",
    "          </tr>    \n",
    "          <tr>\n",
    "            <th scope=\"row\">2</th>\n",
    "            <td colspan=\"2\">ValueError</td>\n",
    "            <td colspan=\"7\">Signale que la valeur n’est pas correcte.</td>\n",
    "          </tr>\n",
    "          <tr>\n",
    "            <th scope=\"row\">3</th>\n",
    "            <td colspan=\"2\">TypeError</td>\n",
    "            <td colspan=\"7\">Signale que le type de la donnée n’est pas correct pour l’instruction à exécuter.</td>  \n",
    "          </tr>\n",
    "          <tr>\n",
    "            <th scope=\"row\">4</th>\n",
    "            <td colspan=\"2\">ZeroDivisionError</td>\n",
    "            <td colspan=\"7\">Signale une division par zéro.</td>\n",
    "          </tr>\n",
    "          <tr>\n",
    "            <th scope=\"row\">5</th>\n",
    "            <td colspan=\"2\">IndexError</td>\n",
    "            <td colspan=\"7\">Signale que l’on veut accéder à un élément d’une liste, d’un n-uplet ou d’une chaîne de caractères avec un index invalide.</td>\n",
    "          </tr>\n",
    "          <tr>\n",
    "            <th scope=\"row\">6</th>\n",
    "            <td colspan=\"2\">KeyError</td>\n",
    "            <td colspan=\"7\">Signale que la clé n’existe pas dans un dictionnaire.</td>\n",
    "          </tr>  \n",
    "     </tbody>\n",
    "  </table>"
   ]
  },
  {
   "cell_type": "markdown",
   "id": "a023b50a",
   "metadata": {},
   "source": [
    "# Lever une exception\n",
    "\n",
    "Parfois, il pourra être utile de lever des exceptions. Vous verrez tout l'intérêt du concept quand vous créerez vos propres classes… . La syntaxe est simple.<br>\n",
    "### On utilise un nouveau mot-clé pour lever une exception… le mot-clé <span style=\"color : brown\">raise</span>."
   ]
  },
  {
   "cell_type": "code",
   "execution_count": null,
   "id": "147fd39e",
   "metadata": {},
   "outputs": [],
   "source": [
    "raise TypeDeLException(\"message à afficher\")"
   ]
  },
  {
   "cell_type": "markdown",
   "id": "0a39ce9c",
   "metadata": {},
   "source": [
    "### Un petit exemple :"
   ]
  },
  {
   "cell_type": "code",
   "execution_count": 33,
   "id": "5eed9ebf",
   "metadata": {},
   "outputs": [
    {
     "name": "stdout",
     "output_type": "stream",
     "text": [
      "Entier :lkfklg\n",
      "Erreur :  La chaîne ne peut pas être convertir en entier\n"
     ]
    }
   ],
   "source": [
    "def strToInt(s):\n",
    "    try:\n",
    "        return int(s)\n",
    "    except :\n",
    "        raise ValueError(\"La chaîne ne peut pas être convertir en entier\")\n",
    "        #pass\n",
    "        \n",
    "\n",
    "a=input(\"Entier :\")\n",
    "try :\n",
    "    print(strToInt(a))\n",
    "except ValueError as erro:\n",
    "    print(\"Erreur : \", erro)"
   ]
  },
  {
   "cell_type": "code",
   "execution_count": 41,
   "id": "d3c399f7",
   "metadata": {},
   "outputs": [
    {
     "name": "stdout",
     "output_type": "stream",
     "text": [
      "Yeto Donatien a 20 ans.\n"
     ]
    }
   ],
   "source": [
    "class Personne :\n",
    "    def __init__(self,nom,prenom,age):\n",
    "        if age < 0:\n",
    "            raise ValueError(\"L'age est incorrect (<0)\")\n",
    "        self.nom=nom\n",
    "        self.prenom=prenom\n",
    "        self.age=age\n",
    "    def __str__(self):\n",
    "        return self.nom + \" \" + self.prenom + \" a \" + str(self.age)+\" ans.\"\n",
    "\n",
    "try:\n",
    "    p=Personne(\"Yeto\",\"Donatien\",20)\n",
    "    print(p)\n",
    "except ValueError as error:\n",
    "    print(\"Erreur : \",error)"
   ]
  },
  {
   "cell_type": "markdown",
   "id": "e91a8ed6",
   "metadata": {},
   "source": [
    "# Exceptions définies par l’utilisateur\n",
    "\n",
    "Les programmes peuvent nommer leurs propres exceptions en créant une nouvelle classe d’exception. Les exceptions sont typiquement dérivées de la classe Exception, directement ou non.\n",
    "\n",
    "Les classes d’exceptions peuvent être définies pour faire tout ce qu’une autre classe peut faire. Elles sont le plus souvent gardées assez simples, n’offrant que les attributs permettant aux gestionnaires de ces exceptions d’extraire les informations relatives à l’erreur qui s’est produite. Lorsque l’on crée un module qui peut déclencher plusieurs types d’erreurs distincts, une pratique courante est de créer une classe de base pour l’ensemble des exceptions définies dans ce module et de créer des sous-classes spécifiques d’exceptions pour les différentes conditions d’erreurs :"
   ]
  },
  {
   "cell_type": "code",
   "execution_count": 60,
   "id": "87e70b60",
   "metadata": {},
   "outputs": [],
   "source": [
    "#Classe de base pour les exceptions error\n",
    "class Error(Exception) :\n",
    "    pass\n",
    "\n",
    "#1ère sous classe\n",
    "class AgeError(Error):\n",
    "    def __init__(self,message):\n",
    "        self.message = message\n",
    "    \n",
    "#2e sous classe\n",
    "class CaseNomError(Error):\n",
    "    def __init__(self,message):\n",
    "        self.message = message\n",
    "\n",
    "\n",
    "#La classe personne qui utilise les exceptions prédéfinies\n",
    "class Personne :\n",
    "    def __init__(self,nom,prenom,age):\n",
    "        if age < 0:\n",
    "            raise AgeError(\"L'age incorrect !\")\n",
    "        if nom != nom.upper():\n",
    "            raise CaseNomError(\"La case non respectée !\")\n",
    "            \n",
    "        self.nom=nom\n",
    "        self.prenom=prenom\n",
    "        self.age=age\n",
    "    def __str__(self):\n",
    "        return self.nom + \" \" + self.prenom + \" a \" + str(self.age)+\" ans.\"\n"
   ]
  },
  {
   "cell_type": "code",
   "execution_count": 65,
   "id": "ab19954b",
   "metadata": {},
   "outputs": [
    {
     "ename": "CaseNomError",
     "evalue": "La case non respectée !",
     "output_type": "error",
     "traceback": [
      "\u001b[0;31m---------------------------------------------------------------------------\u001b[0m",
      "\u001b[0;31mCaseNomError\u001b[0m                              Traceback (most recent call last)",
      "\u001b[0;32m<ipython-input-65-2b7d8dfb63b1>\u001b[0m in \u001b[0;36m<module>\u001b[0;34m\u001b[0m\n\u001b[0;32m----> 1\u001b[0;31m \u001b[0mp\u001b[0m\u001b[0;34m=\u001b[0m\u001b[0mPersonne\u001b[0m\u001b[0;34m(\u001b[0m\u001b[0;34m\"YETo\"\u001b[0m\u001b[0;34m,\u001b[0m\u001b[0;34m\"Donatien\"\u001b[0m\u001b[0;34m,\u001b[0m\u001b[0;36m20\u001b[0m\u001b[0;34m)\u001b[0m\u001b[0;34m\u001b[0m\u001b[0;34m\u001b[0m\u001b[0m\n\u001b[0m",
      "\u001b[0;32m<ipython-input-60-24969c391e0b>\u001b[0m in \u001b[0;36m__init__\u001b[0;34m(self, nom, prenom, age)\u001b[0m\n\u001b[1;32m     15\u001b[0m             \u001b[0;32mraise\u001b[0m \u001b[0mAgeError\u001b[0m\u001b[0;34m(\u001b[0m\u001b[0;34m\"L'age incorrect !\"\u001b[0m\u001b[0;34m)\u001b[0m\u001b[0;34m\u001b[0m\u001b[0;34m\u001b[0m\u001b[0m\n\u001b[1;32m     16\u001b[0m         \u001b[0;32mif\u001b[0m \u001b[0mnom\u001b[0m \u001b[0;34m!=\u001b[0m \u001b[0mnom\u001b[0m\u001b[0;34m.\u001b[0m\u001b[0mupper\u001b[0m\u001b[0;34m(\u001b[0m\u001b[0;34m)\u001b[0m\u001b[0;34m:\u001b[0m\u001b[0;34m\u001b[0m\u001b[0;34m\u001b[0m\u001b[0m\n\u001b[0;32m---> 17\u001b[0;31m             \u001b[0;32mraise\u001b[0m \u001b[0mCaseNomError\u001b[0m\u001b[0;34m(\u001b[0m\u001b[0;34m\"La case non respectée !\"\u001b[0m\u001b[0;34m)\u001b[0m\u001b[0;34m\u001b[0m\u001b[0;34m\u001b[0m\u001b[0m\n\u001b[0m\u001b[1;32m     18\u001b[0m \u001b[0;34m\u001b[0m\u001b[0m\n\u001b[1;32m     19\u001b[0m         \u001b[0mself\u001b[0m\u001b[0;34m.\u001b[0m\u001b[0mnom\u001b[0m\u001b[0;34m=\u001b[0m\u001b[0mnom\u001b[0m\u001b[0;34m\u001b[0m\u001b[0;34m\u001b[0m\u001b[0m\n",
      "\u001b[0;31mCaseNomError\u001b[0m: La case non respectée !"
     ]
    }
   ],
   "source": [
    "p=Personne(\"YETo\",\"Donatien\",20)  "
   ]
  },
  {
   "cell_type": "code",
   "execution_count": 62,
   "id": "07606dc2",
   "metadata": {},
   "outputs": [
    {
     "name": "stdout",
     "output_type": "stream",
     "text": [
      "Erreur :  L'age incorrect !\n"
     ]
    }
   ],
   "source": [
    "\n",
    "try:\n",
    "    p=Personne(\"Yeto\",\"Donatien\",-20)\n",
    "    print(p)\n",
    "except AgeError as error:\n",
    "    print(\"Erreur : \",error)\n",
    "except CaseNomError as error:\n",
    "    print(\"Erreur : \",error)"
   ]
  },
  {
   "cell_type": "markdown",
   "id": "9455d5e8",
   "metadata": {},
   "source": [
    "La plupart des exceptions sont définies avec des noms qui se terminent par « Error », comme les exceptions standards."
   ]
  }
 ],
 "metadata": {
  "kernelspec": {
   "display_name": "Python 3",
   "language": "python",
   "name": "python3"
  },
  "language_info": {
   "codemirror_mode": {
    "name": "ipython",
    "version": 3
   },
   "file_extension": ".py",
   "mimetype": "text/x-python",
   "name": "python",
   "nbconvert_exporter": "python",
   "pygments_lexer": "ipython3",
   "version": "3.8.5"
  }
 },
 "nbformat": 4,
 "nbformat_minor": 5
}
